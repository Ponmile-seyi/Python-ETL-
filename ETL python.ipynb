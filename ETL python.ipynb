{
 "cells": [
  {
   "cell_type": "code",
   "execution_count": 13,
   "id": "5f751f68-b252-4b6b-9642-43a5242e1a0e",
   "metadata": {},
   "outputs": [],
   "source": [
    "import pyodbc"
   ]
  },
  {
   "cell_type": "code",
   "execution_count": 21,
   "id": "208547cf-1996-4e83-802a-b92955a0dfd1",
   "metadata": {},
   "outputs": [],
   "source": [
    "import psycopg2"
   ]
  },
  {
   "cell_type": "code",
   "execution_count": 15,
   "id": "ff883924-c4a0-4024-8d43-a0af93065be3",
   "metadata": {},
   "outputs": [],
   "source": [
    "import sqlalchemy "
   ]
  },
  {
   "cell_type": "code",
   "execution_count": 16,
   "id": "6c214b8f-6aa0-4ed9-9b25-c3504d4340f7",
   "metadata": {},
   "outputs": [],
   "source": [
    "from sqlalchemy import create_engine"
   ]
  },
  {
   "cell_type": "code",
   "execution_count": 17,
   "id": "98e35bdc-ccdd-4b12-97f0-44a10cc704ee",
   "metadata": {},
   "outputs": [],
   "source": [
    "import pandas as pd"
   ]
  },
  {
   "cell_type": "code",
   "execution_count": 23,
   "id": "7903b4a1-5230-47b9-9d02-566b75082241",
   "metadata": {},
   "outputs": [],
   "source": [
    "uid = 'postgres'\n",
    "\n",
    "pwd = '1234'\n",
    "\n",
    "server = 'localhost'"
   ]
  },
  {
   "cell_type": "code",
   "execution_count": 19,
   "id": "0699b38c-ceb3-4b4c-b4cc-e047e06437b7",
   "metadata": {},
   "outputs": [
    {
     "data": {
      "text/plain": [
       "['SQL Server',\n",
       " 'Microsoft Access Driver (*.mdb, *.accdb)',\n",
       " 'Microsoft Excel Driver (*.xls, *.xlsx, *.xlsm, *.xlsb)',\n",
       " 'Microsoft Access Text Driver (*.txt, *.csv)',\n",
       " 'SQL Server Native Client 11.0',\n",
       " 'ODBC Driver 17 for SQL Server',\n",
       " 'SQL Server Native Client RDA 11.0']"
      ]
     },
     "execution_count": 19,
     "metadata": {},
     "output_type": "execute_result"
    }
   ],
   "source": [
    "pyodbc.drivers()"
   ]
  },
  {
   "cell_type": "code",
   "execution_count": 24,
   "id": "079a1430-d29e-4a74-bc04-c2e9a3fea193",
   "metadata": {},
   "outputs": [
    {
     "name": "stderr",
     "output_type": "stream",
     "text": [
      "C:\\Users\\DELL\\AppData\\Local\\Temp\\ipykernel_5184\\1888240075.py:14: UserWarning: pandas only supports SQLAlchemy connectable (engine/connection) or database string URI or sqlite3 DBAPI2 connection. Other DBAPI2 objects are not tested. Please consider using SQLAlchemy.\n",
      "  df = pd.read_sql_query(f'Select * from {tbl[0]}', source_conn)\n"
     ]
    },
    {
     "name": "stdout",
     "output_type": "stream",
     "text": [
      "importing rows 0 to 196...for table CountriesByArea\n",
      "Data imported successful\n",
      "importing rows 0 to 20...for table tblCategory\n",
      "Data imported successful\n",
      "importing rows 0 to 8...for table tblContinent\n",
      "Data imported successful\n",
      "importing rows 0 to 43...for table tblCountry\n"
     ]
    },
    {
     "name": "stderr",
     "output_type": "stream",
     "text": [
      "C:\\Users\\DELL\\AppData\\Local\\Temp\\ipykernel_5184\\1888240075.py:14: UserWarning: pandas only supports SQLAlchemy connectable (engine/connection) or database string URI or sqlite3 DBAPI2 connection. Other DBAPI2 objects are not tested. Please consider using SQLAlchemy.\n",
      "  df = pd.read_sql_query(f'Select * from {tbl[0]}', source_conn)\n",
      "C:\\Users\\DELL\\AppData\\Local\\Temp\\ipykernel_5184\\1888240075.py:14: UserWarning: pandas only supports SQLAlchemy connectable (engine/connection) or database string URI or sqlite3 DBAPI2 connection. Other DBAPI2 objects are not tested. Please consider using SQLAlchemy.\n",
      "  df = pd.read_sql_query(f'Select * from {tbl[0]}', source_conn)\n",
      "C:\\Users\\DELL\\AppData\\Local\\Temp\\ipykernel_5184\\1888240075.py:14: UserWarning: pandas only supports SQLAlchemy connectable (engine/connection) or database string URI or sqlite3 DBAPI2 connection. Other DBAPI2 objects are not tested. Please consider using SQLAlchemy.\n",
      "  df = pd.read_sql_query(f'Select * from {tbl[0]}', source_conn)\n"
     ]
    },
    {
     "name": "stdout",
     "output_type": "stream",
     "text": [
      "Data imported successful\n",
      "importing rows 0 to 459...for table tblEvent\n"
     ]
    },
    {
     "name": "stderr",
     "output_type": "stream",
     "text": [
      "C:\\Users\\DELL\\AppData\\Local\\Temp\\ipykernel_5184\\1888240075.py:14: UserWarning: pandas only supports SQLAlchemy connectable (engine/connection) or database string URI or sqlite3 DBAPI2 connection. Other DBAPI2 objects are not tested. Please consider using SQLAlchemy.\n",
      "  df = pd.read_sql_query(f'Select * from {tbl[0]}', source_conn)\n"
     ]
    },
    {
     "name": "stdout",
     "output_type": "stream",
     "text": [
      "Data imported successful\n",
      "importing rows 0 to 25...for table tblFamily\n",
      "Data imported successful\n"
     ]
    },
    {
     "name": "stderr",
     "output_type": "stream",
     "text": [
      "C:\\Users\\DELL\\AppData\\Local\\Temp\\ipykernel_5184\\1888240075.py:14: UserWarning: pandas only supports SQLAlchemy connectable (engine/connection) or database string URI or sqlite3 DBAPI2 connection. Other DBAPI2 objects are not tested. Please consider using SQLAlchemy.\n",
      "  df = pd.read_sql_query(f'Select * from {tbl[0]}', source_conn)\n"
     ]
    }
   ],
   "source": [
    "def extract():\n",
    "    try:\n",
    "        source_conn = pyodbc.connect ('DRIVER={ODBC Driver 17 for SQL Server}; SERVER=OLUWAPONMILE; \\\n",
    "                                      DATABASE=WorldEvents; Trusted_Connection=YES')\n",
    "        \n",
    "        source_cursor = source_conn.cursor()\n",
    "        \n",
    "        source_cursor.execute(\"\"\" SELECT t.name as table_name FROM sys.tables t where t.name IN ('tblContinent',\n",
    "        'CountriesByArea','tblCategory','tblCountry','tblEvent','tblFamily')\"\"\")\n",
    "        \n",
    "        source_tables = source_cursor.fetchall()\n",
    "        \n",
    "        for tbl in source_tables:\n",
    "            df = pd.read_sql_query(f'Select * from {tbl[0]}', source_conn)\n",
    "            load(df, tbl[0])\n",
    "        \n",
    "    except Exception as e:\n",
    "            print(\"Data extract error: \" + str(e))\n",
    "            \n",
    "    finally:\n",
    "            source_conn.close()\n",
    "            \n",
    "\n",
    "\n",
    "def load(df, tbl):\n",
    "    try:\n",
    "        rows_imported = 0\n",
    "        engine = create_engine (f'postgresql://{uid}:{pwd}@{server}:5432/WorldEvents')\n",
    "        \n",
    "        print(f'importing rows {rows_imported} to {rows_imported + len(df)}...for table {tbl}')\n",
    "        \n",
    "        df.to_sql(f'stg_{tbl}', engine, if_exists='replace', index=False)\n",
    "        rows_imported += len(df)\n",
    "        \n",
    "        print (\"Data imported successful\")\n",
    "        \n",
    "    except Exception as e:\n",
    "        print (\"Data load error: \" + str(e))\n",
    "        \n",
    "        \n",
    "        \n",
    "try:\n",
    "    extract()\n",
    "except Exception as e:\n",
    "    print ('Error while extracting data: ' + str(e))"
   ]
  }
 ],
 "metadata": {
  "kernelspec": {
   "display_name": "Python 3 (ipykernel)",
   "language": "python",
   "name": "python3"
  },
  "language_info": {
   "codemirror_mode": {
    "name": "ipython",
    "version": 3
   },
   "file_extension": ".py",
   "mimetype": "text/x-python",
   "name": "python",
   "nbconvert_exporter": "python",
   "pygments_lexer": "ipython3",
   "version": "3.8.13"
  }
 },
 "nbformat": 4,
 "nbformat_minor": 5
}
